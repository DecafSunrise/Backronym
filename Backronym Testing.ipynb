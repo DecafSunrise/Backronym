{
 "cells": [
  {
   "cell_type": "code",
   "execution_count": 1,
   "id": "bd076ea5",
   "metadata": {},
   "outputs": [],
   "source": [
    "import pandas as pd\n",
    "import random"
   ]
  },
  {
   "cell_type": "code",
   "execution_count": 8,
   "id": "66b7466a",
   "metadata": {},
   "outputs": [],
   "source": [
    "df = pd.read_csv(r\"words.csv\")\n",
    "df['word'] = df['word'].astype(str)"
   ]
  },
  {
   "cell_type": "code",
   "execution_count": 9,
   "id": "3d4d9f09",
   "metadata": {},
   "outputs": [],
   "source": [
    "text = 'BACK'"
   ]
  },
  {
   "cell_type": "code",
   "execution_count": null,
   "id": "bdb671d7",
   "metadata": {},
   "outputs": [],
   "source": [
    "df['word'].str.startswith('')"
   ]
  },
  {
   "cell_type": "code",
   "execution_count": 63,
   "id": "dbd52b2a",
   "metadata": {},
   "outputs": [],
   "source": [
    "\n",
    "def backronym(text):\n",
    "    outlist = []\n",
    "    for x in text.lower():\n",
    "        outlist.append(random.choice(df[df['word'].str.startswith(x)]['word'].tolist()).title())\n",
    "\n",
    "    return f\"{text.upper()}: {' '.join(outlist)}\""
   ]
  },
  {
   "cell_type": "code",
   "execution_count": 65,
   "id": "156d53c9",
   "metadata": {},
   "outputs": [
    {
     "data": {
      "text/plain": [
       "['POOP: Pleader Outcry Obtuser Plasticine',\n",
       " 'POOP: Prefab Ovations Obliterates Pl',\n",
       " 'POOP: Perturb Orthopaedists Odors Pine',\n",
       " 'POOP: Pedaled Orderlies Obdurate Piscatorial',\n",
       " 'POOP: Polished Obstruct Okinawa Prattles',\n",
       " 'POOP: Piazze Oshkosh Ordinations Permanence',\n",
       " 'POOP: Pornographic Overtly Objecting Puffiness',\n",
       " 'POOP: Portly Overcrowded Optionally Propelled',\n",
       " 'POOP: Perjurers Overtures Oversupplies Popcorn',\n",
       " 'POOP: Pantyhose Opaque Okaying Pillsbury',\n",
       " 'POOP: Pahlavi Outsell Omnibusses Pancreases',\n",
       " 'POOP: Pours Opposite Opponents Placement',\n",
       " 'POOP: Pallor Oppressing Ova Peripatetics',\n",
       " 'POOP: Painfuller Overcomes Olivier Procurators',\n",
       " 'POOP: Pubs Outputs Obsequies Pedaling',\n",
       " 'POOP: Pedlar Obnoxiously Overtime Populated',\n",
       " 'POOP: Potentates Optioned Operands Parochialism',\n",
       " 'POOP: Potholders Orbits Odysseys Pyrrhic',\n",
       " 'POOP: Petticoats Oxide Oculists Patrick',\n",
       " 'POOP: Prefecture Oncology Otter Peregrination',\n",
       " 'POOP: Phalanx Oho Ours Porcupine',\n",
       " 'POOP: Playoffs Olfactories Ochre Pediments',\n",
       " 'POOP: Pastrami Oversensitive Orthodoxies Prefiguring',\n",
       " 'POOP: Paraphrases Obliteration Oxidize Parsing',\n",
       " 'POOP: Parka Overabundance Overbalanced Popularized',\n",
       " 'POOP: Pomona Overspend Observant Palette',\n",
       " 'POOP: Prepossess Overworking Oversize Plays',\n",
       " 'POOP: Plebeians Outflanking Orthogonality Polkaing',\n",
       " 'POOP: Provident Obeying Oranges Pork',\n",
       " 'POOP: Preterit Oddest Ornament Puffiness']"
      ]
     },
     "execution_count": 65,
     "metadata": {},
     "output_type": "execute_result"
    }
   ],
   "source": [
    "[backronym('poop') for x in range(30)]"
   ]
  },
  {
   "cell_type": "code",
   "execution_count": 66,
   "id": "1275b005",
   "metadata": {},
   "outputs": [
    {
     "data": {
      "text/plain": [
       "['LAME: Laughingstocks Affray Mainframe Expressiveness',\n",
       " 'LAME: Lower Antipathy Multiplexor Erin',\n",
       " 'LAME: Loathing Affiliate Mohammedanisms Expanses',\n",
       " 'LAME: Linings Assam Matches Evolutionary',\n",
       " 'LAME: Leggin Assortments Metronomes Extroverts',\n",
       " 'LAME: Larches Affixed Milking Embroidering',\n",
       " 'LAME: Lancaster Avalon Makings Evanescent',\n",
       " 'LAME: Lend Adherents Margaret Edda',\n",
       " 'LAME: Layered Antagonize Mischievous Employing',\n",
       " 'LAME: Leonine Abusive Megapixel Earl',\n",
       " 'LAME: Lampreys Attach Miscall Encapsulation',\n",
       " 'LAME: Lift Antitrust Miscalculated Exhort',\n",
       " 'LAME: Laundered Alliterative Multivariate Educates',\n",
       " 'LAME: Lemma Align Modigliani Endeared',\n",
       " 'LAME: Libby Aeronautics Machinery Entombing',\n",
       " 'LAME: Liberality Amebas Mes Ecru',\n",
       " 'LAME: Lola Archbishops Marauding Easily',\n",
       " 'LAME: Ludicrously Agilely Mathews Ember',\n",
       " 'LAME: Legitimated Afrikaans Methinks Elevens',\n",
       " 'LAME: Ladyfingers Assuring Mansard Erudite',\n",
       " 'LAME: Laundering Antithesis Moaning Everything',\n",
       " 'LAME: Largest Artworks Math Easiest',\n",
       " 'LAME: Lawless Alphabetizes Misquotes Externally',\n",
       " 'LAME: Legislative Across Miranda Extraneously',\n",
       " 'LAME: Ladybird Artsier Magnets Erica',\n",
       " 'LAME: Luxuriousness Accomplishments Merrymaking Elbowroom',\n",
       " 'LAME: Loonies Apes Markham Ester',\n",
       " 'LAME: Limelight Arius Militates Euphony',\n",
       " 'LAME: Lids Alluring Macbride Eglantine',\n",
       " 'LAME: Levitated Adapts Marrow Eileen']"
      ]
     },
     "execution_count": 66,
     "metadata": {},
     "output_type": "execute_result"
    }
   ],
   "source": [
    "[backronym('lame') for x in range(30)]"
   ]
  },
  {
   "cell_type": "code",
   "execution_count": null,
   "id": "85e9db2c",
   "metadata": {},
   "outputs": [],
   "source": []
  }
 ],
 "metadata": {
  "kernelspec": {
   "display_name": "NLP",
   "language": "python",
   "name": "nlp"
  },
  "language_info": {
   "codemirror_mode": {
    "name": "ipython",
    "version": 3
   },
   "file_extension": ".py",
   "mimetype": "text/x-python",
   "name": "python",
   "nbconvert_exporter": "python",
   "pygments_lexer": "ipython3",
   "version": "3.8.11"
  }
 },
 "nbformat": 4,
 "nbformat_minor": 5
}
