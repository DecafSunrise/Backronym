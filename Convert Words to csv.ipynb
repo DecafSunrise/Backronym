{
 "cells": [
  {
   "cell_type": "code",
   "execution_count": 1,
   "id": "ba49725b",
   "metadata": {},
   "outputs": [],
   "source": [
    "import pandas as pd"
   ]
  },
  {
   "cell_type": "code",
   "execution_count": 6,
   "id": "45bfeee0",
   "metadata": {},
   "outputs": [],
   "source": [
    "df = pd.read_csv(\"words.txt\", sep=\" \", header=None)\n",
    "\n",
    "df = df.rename(columns={0:'word'})"
   ]
  },
  {
   "cell_type": "code",
   "execution_count": 16,
   "id": "06fce6df",
   "metadata": {},
   "outputs": [],
   "source": [
    "df['word'] = df['word'].astype(str)\n",
    "df = df[~df['word'].str.endswith(\"'s\")]\n",
    "df['word'] = df['word'].str.lower()\n",
    "df['word'] = df['word'].drop_duplicates()"
   ]
  },
  {
   "cell_type": "code",
   "execution_count": 25,
   "id": "e5df0789",
   "metadata": {},
   "outputs": [
    {
     "data": {
      "text/plain": [
       "73034"
      ]
     },
     "execution_count": 25,
     "metadata": {},
     "output_type": "execute_result"
    }
   ],
   "source": [
    "df['word'].nunique()"
   ]
  },
  {
   "cell_type": "code",
   "execution_count": 35,
   "id": "0aa3a9e2",
   "metadata": {},
   "outputs": [],
   "source": [
    "df.to_csv(r\"words.csv\", index=False)"
   ]
  },
  {
   "cell_type": "code",
   "execution_count": null,
   "id": "49967d1f",
   "metadata": {},
   "outputs": [],
   "source": []
  }
 ],
 "metadata": {
  "kernelspec": {
   "display_name": "NLP",
   "language": "python",
   "name": "nlp"
  },
  "language_info": {
   "codemirror_mode": {
    "name": "ipython",
    "version": 3
   },
   "file_extension": ".py",
   "mimetype": "text/x-python",
   "name": "python",
   "nbconvert_exporter": "python",
   "pygments_lexer": "ipython3",
   "version": "3.8.11"
  }
 },
 "nbformat": 4,
 "nbformat_minor": 5
}
